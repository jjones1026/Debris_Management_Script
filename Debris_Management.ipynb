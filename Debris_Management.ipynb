import arcpy, os, sys, time, smtplib, json
from os.path import basename
from email.mime.application import MIMEApplication
from email.mime.multipart import MIMEMultipart
from email.mime.text import MIMEText
from email.utils import COMMASPACE, formatdate

# Selenium
from selenium import webdriver
from selenium.webdriver.common.by import By
from selenium.webdriver.chrome.options import Options
from selenium.webdriver.support.ui import WebDriverWait
from selenium.webdriver.support import expected_conditions as EC
from selenium.webdriver.support.ui import Select
from selenium.webdriver.common.by import By

# for Word document
from docx import Document

# to move & rename files
import shutil

# Text to Speech
import time
import pyttsx3

# to get username from system
import getpass
# this_user='your_username'
this_user=getpass.getuser()

# Interact with ArcGIS Online nd Dashboards
from arcgis.gis import GIS
from arcgis.mapping import WebMap

gdb=r"Debris Management System (DMS).gdb"
arcpy.env.workspace=gdb
arcpy.mp.ArcGISProject("CURRENT")

start_time=time.time()
todays_date=str(datetime.date.today())
time_now=datetime.datetime.now()
time_for_file="{0:%H_%M_%S}".format(time_now)
display_time=datetime.datetime.now()
display_time="{0:%H:%M:%S}".format(display_time)

# Prompt user for completed subdivisions for Word document summary
completed_subdivisions=input("📋 → Enter the completed subdivision debris progress (comma-separated): ")

print("--------------------------------------------------------------------------------------------------")
print("🐵 → PROCESS STARTED by "+this_user+": "+todays_date+" "+display_time+"")
print("--------------------------------------------------------------------------------------------------\n")

# method to get the downloaded file name IN CHROME ONLY!!!!!!!
def getDownLoadedFileName(waitTime):
    driver.execute_script("window.open()")
    # switch to new tab
    driver.switch_to.window(driver.window_handles[-1])
    # navigate to chrome downloads
    driver.get('chrome://downloads')
    # define the endTime
    endTime=time.time()+waitTime
    while True:
        try:
            # get downloaded percentage
            downloadPercentage = driver.execute_script(
                "return document.querySelector('downloads-manager').shadowRoot.querySelector('#downloadsList downloads-item').shadowRoot.querySelector('#progress').value")
            # check if downloadPercentage is 100 (otherwise the script will keep waiting)
            if downloadPercentage==100:
                # return the file name once the download is completed
                return driver.execute_script("return document.querySelector('downloads-manager').shadowRoot.querySelector('#downloadsList downloads-item').shadowRoot.querySelector('div#content  #file-link').text")
        except:
            pass
        time.sleep(1)
        if time.time() > endTime:
            break

print("📡 → Connecting to TDMS Portal.")
            
username="site_username"
password="site_passwd"
options=webdriver.ChromeOptions()
options.headless = True
# the browser that will open is → CHROME
driver=webdriver.Chrome(options=options)
url="https://portal.thompsoncs.net/login.aspx"
driver.get(url)
driver.maximize_window()

print("🗝 → Logged in successfully.")

try:
    # Login to TDMS website
    user=WebDriverWait(driver, 10).until(EC.presence_of_element_located((By.ID, "u1")))
    passwd=WebDriverWait(driver, 10).until(EC.presence_of_element_located((By.ID, "u2")))
    user.clear()
    user.send_keys(username)
    passwd.clear()
    passwd.send_keys(password)
    driver.find_element("name", "btnAuthenticate").click()

    # Open TDMS Tickets page
    driver.get("https://portal.thompsoncs.net/tickets.aspx")

    # Select "Your Filter" as Client 
    client=Select(driver.find_element(By.ID,"ctl00_MainContent_ddlFilterLoadClient"))
    client.select_by_visible_text ("Your Filter")
    time.sleep(1)

    # Select "ROW" as Project 
    project=Select(driver.find_element(By.ID,"ctl00_MainContent_ddlFilterLoadProject"))
    project.select_by_visible_text("ROW")

    # Click to download Excel file
    driver.find_element("id", "ctl00_MainContent_btnLoadExcel").click()

    # Get name of dynamicly named file from Google downloads
    filename=getDownLoadedFileName(5)
    print("📥 → Downloaded Excel file: "+filename)

    # Get root and username so we can construct the downloads folder
    root_path= os.path.abspath("/")
    this_user= os.getlogin()
#    print("Root path:", root_path)
#    print("Logged-in user:", this_user)

    # Move file to Milton project data folder
    source_file=r"C:/Users/"+this_user+"/Downloads/"+filename
    destination_folder=r"R:/Projects/Thompson Data Exports/Current"
    new_filename="DMS.xlsx"
    shutil.move(source_file, os.path.join(destination_folder, new_filename))
    print("▶️ → Moved Excel file to Milton project folder")
    time.sleep(10)
finally:
    driver.quit()

######################################################################
####### FUNCTIONS for MAP #############################################
######################################################################
# Calculates elapsed time
def elapsed(start_time):
    end_time=time.time()
    elapsed_seconds=end_time-start_time
    display_elapsed_time=time.strftime("%H:%M:%S", time.gmtime(elapsed_seconds))
    print("🕓 →  ELAPSED TIME: "+str(display_elapsed_time)+"\n")

# Send email function
def send_mail(send_from, send_to, subject, text, files):
    server="mail.port-orange.org"
    assert isinstance(send_to, list)
    msg=MIMEMultipart()
    msg['From']=send_from
    msg['To']=COMMASPACE.join(send_to)
    msg['Cc']=COMMASPACE.join(send_to)
    msg['Bcc']=COMMASPACE.join(send_to)
    msg['Date']=formatdate(localtime=True)
    msg['Subject']=subject
    html="<div>"+text+"</div>"
    msg.attach(MIMEText(html,'html'))
    for f in files or []:
        print("📂 → Attached file: "+f)
        with open(f, 'rb') as fil:
            part=MIMEApplication(
                fil.read(),
                Name=basename(f)
            )
        # After the file is closed
        part['Content-Disposition']='attachment; filename="%s"' % basename(f)
        msg.attach(part)
    try:
        smtp=smtplib.SMTP(server)
        smtp.sendmail(send_from, send_to, msg.as_string())
        print("📤 → Sending email")
        smtp.close()
    except Exception as e:
        print("❌ → ERROR: "+str(e))

# Save Layout to PDF file
def save_PDF(formatted_date, directory_path):
    aprx=arcpy.mp.ArcGISProject('CURRENT')
    Layout=aprx.listLayouts()[0]
    file_to_save=directory_path+"\Milton_Debris_Update_"+formatted_date+".pdf"
    start_time=time.time()
    print("🗺️ → Preparing to save PDF: "+file_to_save)
    time.sleep(10) # give Pro some time to catch up to the code and update the layout
    success=Layout.exportToPDF(file_to_save)
    if(success):
        print("✔️ →  Saved PDF: "+file_to_save+".\n")
    else:
        print("❌ →  ERROR: Could not save PDF: "+file_to_save+".\n")
    elapsed(start_time)
    return file_to_save

######################################################################
####### START MAP #################################################
######################################################################
arcpy.management.Delete("NEW_Debris_Table")
arcpy.management.Delete("NEW_Debris_Points")
arcpy.management.Delete("Debris_Class_Stats")
arcpy.management.Delete("Debris Collection Zones")


# ARCHIVE FOLDER:
# "R:\Projects\Thompson Data Exports\Archieved"
# CURRENT FOLDER
# "R:\Projects\Thompson Data Exports\Current"
arcpy.conversion.ExcelToTable(
    Input_Excel_File=r"R:\Projects\\Thompson Data Exports\Current\PODMS_Milton.xlsx",
    Output_Table=gdb+r"\NEW_Debris_Table",
    Sheet="DataTable",
    field_names_row=1,
    cell_range=""
)

# Copy the new file into the archive folder
arcpy.conversion.TableToExcel(
    Input_Table="NEW_Debris_Table",
    Output_Excel_File=r"R:\Projects\Thompson Data Exports\Archieved\Milton_Debris_"+todays_date+".xls",
    Use_field_alias_as_column_header="NAME",
    Use_domain_and_subtype_description="CODE"
)

# Convert PID in table to text so it can be compared with parcels
debris_table="NEW_Debris_Table"
date_field="Last_Updated"

# Add a new text field if it doesn't exist
if not arcpy.ListFields(debris_table, date_field):
    arcpy.AddField_management(debris_table, date_field, "TEXT", None, None, 100, "Last Updated")

# Populate with today's date
today=[datetime.date.today()]
with arcpy.da.UpdateCursor(debris_table, [date_field]) as rows:
    for row in rows:
        rows.updateRow(today)

# Add background, Collection Zones
aprx=arcpy.mp.ArcGISProject("CURRENT")
aprxMap=aprx.listMaps("PO-DMS")[0]
arcpy.management.CopyFeatures("Background", "Background_final")
aprxMap.addDataFromPath(r"R:\Layers\Debris Collection Zones.lyrx")

# Set up labeling for Debris Collection Zones to display {Zone}
if debris_zone_layer.supports("LABELS_VISIBLE"):
    debris_zone_layer.labelsVisible = True
    lbl_class = debris_zone_layer.listLabelClasses()[0]
    lbl_class.showClassLabels = True
    lbl_class.expression = f'[{Zone}]'

# XY to points
arcpy.management.XYTableToPoint(
    in_table="NEW_Debris_Table",
    out_feature_class=r"R:\Projects\DMS.gdb\NEW_Debris_Points",
    x_field="Load_Longitude",
    y_field="Load_Latitude",
    z_field=None,
    coordinate_system='GEOGCS["GCS_WGS_1984",DATUM["D_WGS_1984",SPHEROID["WGS_1984",6378137.0,298.257223563]],PRIMEM["Greenwich",0.0],UNIT["Degree",0.0174532925199433]];-400 -400 1000000000;-100000 10000;-100000 10000;8.98315284119521E-09;0.001;0.001;IsHighPrecision'
)

# Copy heatmap symbology from exported layer saved in Data folder
arcpy.management.ApplySymbologyFromLayer(
    in_layer="NEW_Debris_Points",
    in_symbology_layer=r"R:\Projects\Data\Debris_Heatmap_Symbology.lyrx",
    symbology_fields=None,
    update_symbology="MAINTAIN"
)

# Calculate statistics on the Debris Class field and export table
arcpy.analysis.Statistics(
    in_table="NEW_Debris_Points",
    out_table=r"R:\Projects\DMS.gdb\Debris_Class_Stats",
    statistics_fields="Cubic_Yards SUM",
    case_field="Debris_Class",
    concatenation_separator=""
)

# Compile the relevant data from statistics table
total_cy=0
final_stats="\n===================================\nSUMMARY STATISTICS\n===================================\n"
search_cursor=arcpy.SearchCursor(gdb+r"\Debris_Class_Stats")
for row in search_cursor:

    dc=str(row.getValue("Debris_Class"))
    f=str(row.getValue("FREQUENCY"))
    cy=row.getValue("SUM_Cubic_Yards")
    cy=math.trunc(cy)
    cy=f'{cy:,}'
    cy=str(cy)
    cy_num=row.getValue("SUM_Cubic_Yards") # for math
    if(dc=="C and D"):
        C_and_D_cubic_yards=cy
    elif(dc=="Vegetation"):
        vegetation_cubic_yards=cy

    total_cy=math.trunc(total_cy+cy_num)
    final_stats=final_stats+"Debris Class: "+dc+"\n"
    final_stats=final_stats+"Frequency: "+f+"\n"
    final_stats=final_stats+"Sum Cubic Yards: "+cy+"\n\n"

total_cy=math.trunc(total_cy)
total_cy=f'{total_cy:,}'
total_cy=str(total_cy)

final_stats=final_stats+"-----------------------------------\nTOTAL Cubic Yards: "+str(total_cy)+"\n-----------------------------------\n\n"
print(final_stats)

#aprxMap.addDataFromPath(r"C:/Users/"+this_user+"/AppData/Roaming/Esri/ArcGISPro/Favorites/"+this_user+"@dev.sde/Transportation/SubName_St_C")
#aprxMap.addDataFromPath(r"R:\Layers\City Boundary.lyr")

# Copy Background symbology
arcpy.management.ApplySymbologyFromLayer(
    in_layer="Background_final",
    in_symbology_layer=r"R:\Projects\Data\Background_water_symbology.lyrx",
    symbology_fields="VALUE_FIELD BGCode BGCode",
    update_symbology="MAINTAIN"
)

# Copy Debris Collection Zone symbology
arcpy.management.ApplySymbologyFromLayer(
    in_layer="Debris Collection Zones",
    in_symbology_layer=r"R:\Projects\Data\Debris Collection Zone_symbology.lyrx",
    symbology_fields=None,
    update_symbology="MAINTAIN"
)

# turn on all added layers
# aprx=arcpy.mp.ArcGISProject("CURRENT") #above
# Access the map
map_obj = aprx.listMaps("DMS")[0]
# Get all layers in the map
layers = map_obj.listLayers()

# Toggle visibility for all layers
for layer in layers:
    layer.visible=True  # Toggle visibility
#    print(f"{layer.name} visibility is now {'on' if layer.visible else 'off'}")

# Save Layout PDF to the Debris Collection Folder
pdf_to_email=save_PDF(todays_date, "R:/Projects/PDF/Debris Collection")

######################################################################
####### WORD DOCUMENT ################################################
######################################################################
# Get current date
current_date = datetime.datetime.now().strftime("%A, %B %d, %Y")
print("📅 → Date set to:", current_date)

# Calculate volumes
# print("🔍 Calculating volumes...")
#volumes = calculate_volumes()
#c_and_d_volume = volumes.get("C&D", 0)
#vegetation_volume = volumes.get("Vegetation", 0)
#total_volume = c_and_d_volume + vegetation_volume
#print("📊 C&D Volume:", c_and_d_volume, "| Vegetation Volume:", vegetation_volume, "| Total Volume:", total_volume)

# Create the Word document
print("📝 → Creating Word document...")
doc = Document()
doc.add_heading('Storm Debris Update', level=1)

# Completed Subdivision Debris Progress
doc.add_paragraph("• Completed Subdivision Debris progress")
for subdivision in completed_subdivisions.split(','):
    doc.add_paragraph(f"    o {subdivision.strip()}")

# Volume Report Section
doc.add_paragraph(f"The volume of storm debris collected as of {current_date} is as follows.")

# Add table for volume data
table = doc.add_table(rows=4, cols=4)
table.style = 'Table Grid'

# Header Row
headers = ["Debris Class", "Estimated Volume CYD", "CYD to Date", "Estimated Remaining CYD"]
for i, header in enumerate(headers):
    table.cell(0, i).text = header

# Row for C&D
table.cell(1, 0).text = "C&D"
table.cell(1, 1).text = "TBD"
#table.cell(1, 2).text = str(c_and_d_volume)
table.cell(1, 2).text = str(C_and_D_cubic_yards)
table.cell(1, 3).text = "TBD"

# Row for Vegetation
table.cell(2, 0).text = "Vegetation"
table.cell(2, 1).text = "TBD"
#table.cell(2, 2).text = str(vegetation_volume)
table.cell(2, 2).text = str(vegetation_cubic_yards)
table.cell(2, 3).text = "TBD"

# Total Row
table.cell(3, 0).text = "Total"
table.cell(3, 1).text = "TBD"
#table.cell(3, 2).text = str(total_volume)
table.cell(3, 2).text = str(total_cy)
table.cell(3, 3).text = "TBD"

# Add the final bullet pointrange with updated data
doc.add_paragraph(
    f"• As of {current_date}, {vegetation_cubic_yards} CYD's of vegetation and {C_and_D_cubic_yards} CYD’s of C&D loads of debris have been collected. "
    "The trucks are currently working in zones 1, 2, 3, 4, 5, 6, 7, and 8."
)

# Save the document
output_directory=r"R:\Projects\Milton\Debris Update Report"
word_doc_output_path=os.path.join(output_directory, "Storm Debris Update.docx")
try:
    os.makedirs(output_directory, exist_ok=True)  # Ensure the directory exists
    doc.save(word_doc_output_path)
    print(f"✅ Document created and saved successfully at {word_doc_output_path}")
except Exception as e:
    print(f"❌ Failed to save document: {e}")

######################################################################
####### EMAIL IT! ####################################################
######################################################################
print("🗺️ → Preparing to send Email...")
# Email Details
email_from = 'noreply@.org'
#email_to=['']
email_to = ['']
email_cc = ['']
#Construct the email body using concatenation
email_body =    "Good morning,<br>" \
                "Attached are the updated debris map and report. <br>Thanks!<br><br>" \
                + final_stats.replace("\n", "<br>") + "<br>" \
                + "V/R" + "<br><br>" \
                + "Business Name,<br>" \
                + "ADDRESS, ,<br>" \
                + "CITY, STATE, ZIPCODE ,<br>" \
                + "OFFICE, ,<br>" \
                + "EMAIL, ,<br>" \
                + "WEBSITE, ,<br>" \
                    
# Send the email
send_mail(email_from, email_to, "Daily Debris Update" + todays_date, email_body, [pdf_to_email, word_doc_output_path])

# Calculate and display elapsed time of script
end_time=time.time()
elapsed_seconds=end_time-start_time
display_elapsed_time=time.strftime("%H:%M:%S", time.gmtime(elapsed_seconds))
display_time=datetime.datetime.now()
display_time="{0:%H:%M:%S}".format(display_time)

######################################################################
####### Dashboard! ####################################################
######################################################################
# Configuration
gdb_path = r"R:\Projects\DMS\Port-Orange Debris Management System (P-ODMS).gdb"
item_id = "374533a7b848428eac55483d9cf185c8"
username = "your_username"  # Replace with your ArcGIS Online username
password = "your_password"    # Replace with your ArcGIS Online password
gis = GIS("https://www.arcgis.com", username, password)

# Function to update the ArcGIS Online item
def update_arcgis_online_item(gdb_path, item_id):
    # Access the ArcGIS Online item
    item = gis.content.get(item_id)
    
    if not item:
        print(f"Item with ID {item_id} not found.")
        return
    
    print(f"Updating item: {item.title}")

    # List all feature classes in the geodatabase
    feature_classes = arcpy.ListFeatureClasses(feature_dataset=gdb_path)

    # Update the online item
    for feature_class in feature_classes:
        # Assuming you want to update the existing feature service with the new data
        feature_layer = item.layers[0]  # Assuming the first layer is the target layer
        print(f"Updating layer: {feature_class}")
        
        # Make a feature layer from the feature class
        arcpy.FeatureClassToFeatureClass_conversion(feature_class, gdb_path, "temp_layer")
        
        # Publish the updated feature class to ArcGIS Online
        feature_layer.manager.add_to_definition({
            "add": [{
                "layerId": feature_layer.id,
                "source": {
                    "url": f"{gdb_path}\\temp_layer"
                }
            }]
        })
        
        print(f"Layer {feature_class} updated successfully.")

    print("Update completed.")

# Run the function
update_arcgis_online_item(gdb_path, item_id)


# Open the PDF file
# arcpy.mp.PDFDocumentOpen(pdf_to_email)

# Queues up text to speech
def main():
    # Simulate a long-running task
    print("Starting the task...")
    time.sleep(3)  # Replace with your code
    print("Task completed.")

    # Initialize the text-to-speech engine
    engine = pyttsx3.init()
    engine.say("The script is done")
    engine.runAndWait()

if __name__ == "__main__":
    main()

print("--------------------------------------------------------------------------------------------------")
print("🍌 - PROCESS COMPLETED: "+todays_date+" "+display_time+"\n🕓 - ELAPSED TIME: "+str(display_elapsed_time))
print("--------------------------------------------------------------------------------------------------\n\n")
